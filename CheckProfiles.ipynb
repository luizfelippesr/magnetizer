{
 "metadata": {
  "name": "",
  "signature": "sha256:acfcd0e4ab1a22d110468887002fa864acbb61fbcc8d4bb329daadbb2f2b6e24"
 },
 "nbformat": 3,
 "nbformat_minor": 0,
 "worksheets": [
  {
   "cells": [
    {
     "cell_type": "heading",
     "level": 4,
     "metadata": {},
     "source": [
      "Compile and run"
     ]
    },
    {
     "cell_type": "code",
     "collapsed": false,
     "input": [
      "import subprocess\n",
      "#print subprocess.check_output(['make','clean'])\n",
      "print subprocess.check_output(['make','testProfiles'])\n",
      "test_dat = subprocess.check_output(['./printProfiles.exe'])"
     ],
     "language": "python",
     "metadata": {},
     "outputs": []
    },
    {
     "cell_type": "heading",
     "level": 4,
     "metadata": {},
     "source": [
      "Prepares data and header arrays"
     ]
    },
    {
     "cell_type": "code",
     "collapsed": false,
     "input": [
      "from io import StringIO\n",
      "headers = test_dat.splitlines()[0].split(\"#\")[1:]\n",
      "data = genfromtxt(StringIO(unicode(test_dat)))"
     ],
     "language": "python",
     "metadata": {},
     "outputs": []
    },
    {
     "cell_type": "heading",
     "level": 4,
     "metadata": {},
     "source": [
      "Makes a crude table"
     ]
    },
    {
     "cell_type": "code",
     "collapsed": false,
     "input": [
      "for h in headers:\n",
      "    print '{0}\\t'.format(h),\n",
      "print \n",
      "for line in data:\n",
      "    for col in line:\n",
      "        print '{0:.5g}    \\t'.format(col),\n",
      "    print"
     ],
     "language": "python",
     "metadata": {},
     "outputs": []
    },
    {
     "cell_type": "heading",
     "level": 4,
     "metadata": {},
     "source": [
      "Prepares dictionary"
     ]
    },
    {
     "cell_type": "code",
     "collapsed": false,
     "input": [
      "d = dict()\n",
      "\n",
      "for i, h in enumerate(headers):\n",
      "    d[h.strip()] = data[:,i]"
     ],
     "language": "python",
     "metadata": {},
     "outputs": []
    },
    {
     "cell_type": "code",
     "collapsed": false,
     "input": [
      "P1 = d['P_gas/(erg/cm^2)']\n",
      "P2 = d['P_grav/(erg/cm^2)']\n",
      "r = d['r/kpc']"
     ],
     "language": "python",
     "metadata": {},
     "outputs": []
    },
    {
     "cell_type": "code",
     "collapsed": false,
     "input": [
      "print 'r \\tPgas \\t \\tPgrav  \\t\\tRel. Dif.'\n",
      "for a,b,c in zip(r, P1, P2):\n",
      "    print '{0:.3g}\\t{1:.3g}  \\t{2:.3g}   \\t{3:.3g}'.format(a, b, c, abs(b-c)/c)"
     ],
     "language": "python",
     "metadata": {},
     "outputs": []
    },
    {
     "cell_type": "code",
     "collapsed": false,
     "input": [],
     "language": "python",
     "metadata": {},
     "outputs": []
    }
   ],
   "metadata": {}
  }
 ]
}