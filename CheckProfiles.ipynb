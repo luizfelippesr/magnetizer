{
 "metadata": {
  "name": "",
  "signature": "sha256:9e5c041fb2c7495a5622f9bbb64cc96afc021d48d14075538c4042468ceda36f"
 },
 "nbformat": 3,
 "nbformat_minor": 0,
 "worksheets": [
  {
   "cells": [
    {
     "cell_type": "heading",
     "level": 4,
     "metadata": {},
     "source": [
      "Compile and run"
     ]
    },
    {
     "cell_type": "code",
     "collapsed": false,
     "input": [
      "import subprocess\n",
      "#print subprocess.check_output(['make','clean'])\n",
      "print subprocess.check_output(['make','testProfiles'])\n",
      "test_dat = subprocess.check_output(['./printProfiles.exe'])\n",
      "print test_dat"
     ],
     "language": "python",
     "metadata": {},
     "outputs": []
    },
    {
     "cell_type": "heading",
     "level": 4,
     "metadata": {},
     "source": [
      "Prepares data and header arrays"
     ]
    },
    {
     "cell_type": "code",
     "collapsed": false,
     "input": [
      "from io import StringIO\n",
      "headers = test_dat.splitlines()[0].split(\"#\")[1:]\n",
      "data = genfromtxt(StringIO(unicode(test_dat)))"
     ],
     "language": "python",
     "metadata": {},
     "outputs": []
    },
    {
     "cell_type": "heading",
     "level": 4,
     "metadata": {},
     "source": [
      "Makes a crude table"
     ]
    },
    {
     "cell_type": "code",
     "collapsed": false,
     "input": [
      "for h in headers:\n",
      "    print '{0}\\t'.format(h),\n",
      "print \n",
      "for line in data:\n",
      "    for col in line:\n",
      "        print '{0:.5g}    \\t'.format(col),\n",
      "    print"
     ],
     "language": "python",
     "metadata": {},
     "outputs": []
    },
    {
     "cell_type": "heading",
     "level": 4,
     "metadata": {},
     "source": [
      "Prepares dictionary"
     ]
    },
    {
     "cell_type": "code",
     "collapsed": false,
     "input": [
      "d = dict()\n",
      "\n",
      "for i, h in enumerate(headers):\n",
      "    d[h.strip()] = data[:,i]\n",
      "print 'KEYS:'\n",
      "for k in d.keys():\n",
      "    print k"
     ],
     "language": "python",
     "metadata": {},
     "outputs": []
    },
    {
     "cell_type": "code",
     "collapsed": false,
     "input": [
      "P1 = d['P_gas / (erg/cm^3)']\n",
      "P2 = d['P_grav / (erg/cm^3)']\n",
      "r = d['r / kpc']\n",
      "fd = d['1/(1+Rm)']\n",
      "h = d['h/pc']\n",
      "Sigma = d['Sigma_d / (Msun/kpc^2)']\n",
      "rho = d['rho / g/cm^-3']"
     ],
     "language": "python",
     "metadata": {},
     "outputs": []
    },
    {
     "cell_type": "code",
     "collapsed": false,
     "input": [
      "myrho = (Sigma/2/h * 1.988e33 *3.404e-53)\n",
      "\n",
      "rho"
     ],
     "language": "python",
     "metadata": {},
     "outputs": []
    },
    {
     "cell_type": "code",
     "collapsed": false,
     "input": [
      "print 'r \\tPgas \\t \\tPgrav  \\t\\tRel. Dif.\\tn/cm^3'\n",
      "for a,b,c,e in zip(r, P1, P2,rho):\n",
      "    print '{0:.3g}\\t{1:.3g}  \\t{2:.3g}   \\t{3:.1g}%\\t\\t {4:.3g}'.format(a, b, c, 100*abs(b-c)/c, e/1.67262158e-24 )"
     ],
     "language": "python",
     "metadata": {},
     "outputs": []
    },
    {
     "cell_type": "code",
     "collapsed": false,
     "input": [],
     "language": "python",
     "metadata": {},
     "outputs": []
    },
    {
     "cell_type": "code",
     "collapsed": false,
     "input": [],
     "language": "python",
     "metadata": {},
     "outputs": []
    },
    {
     "cell_type": "code",
     "collapsed": false,
     "input": [],
     "language": "python",
     "metadata": {},
     "outputs": []
    },
    {
     "cell_type": "code",
     "collapsed": false,
     "input": [],
     "language": "python",
     "metadata": {},
     "outputs": []
    },
    {
     "cell_type": "code",
     "collapsed": false,
     "input": [],
     "language": "python",
     "metadata": {},
     "outputs": []
    }
   ],
   "metadata": {}
  }
 ]
}