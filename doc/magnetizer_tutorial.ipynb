{
 "cells": [
  {
   "cell_type": "code",
   "execution_count": 1,
   "metadata": {},
   "outputs": [],
   "source": [
    "import os"
   ]
  },
  {
   "cell_type": "code",
   "execution_count": 2,
   "metadata": {},
   "outputs": [],
   "source": [
    "os.chdir('..')"
   ]
  },
  {
   "cell_type": "markdown",
   "metadata": {},
   "source": [
    "## Compiling\n",
    "\n",
    "If all the required libraries are installed and the paths had been adjusted in the Makefile, one should be able to build the code.\n",
    "\n",
    "If one simple executes `make` or `make help`, there is a brief summary of which components can be built."
   ]
  },
  {
   "cell_type": "code",
   "execution_count": 16,
   "metadata": {},
   "outputs": [
    {
     "name": "stdout",
     "output_type": "stream",
     "text": [
      "---------------------\n",
      " Magnetizer Makefile\n",
      "---------------------\n",
      "  make prod -> Builds main program for a production run.\n",
      "  make test -> Builds main program for a test run (debugging and backtracing enabled).\n",
      "  make Observables -> Builds the Observables.exe excecutable, which computes polarized and total synchrotron intensity, as well as rotation measures, and includes them in the output.\n",
      "  make Observables_single -> Builds the Observables_single.exe excecutable, which computes line-of-sight quantities for individual galaxies in the output.\n",
      "  make clean -> Removes all object files.\n",
      "  make cleanall -> Removes all object files, executables files and python bytecode.\n",
      "  make all -> Builds all test programs and main program (test settings).\n",
      "  make help -> Displays this help\n"
     ]
    }
   ],
   "source": [
    "%%bash\n",
    "\n",
    "make "
   ]
  },
  {
   "cell_type": "markdown",
   "metadata": {},
   "source": [
    "We strongly recommend initially using `make test` for compiling the `Magnetizer`. The `make prod` option enables the compiler optimizations and *disables* debugging and backtracing features. Also, when major changes are made to the source, it often a good idea to use the `make cleanall` command to avoid problems."
   ]
  },
  {
   "cell_type": "code",
   "execution_count": 17,
   "metadata": {},
   "outputs": [
    {
     "name": "stdout",
     "output_type": "stream",
     "text": [
      "\n",
      "Building Magnetizer test/debug run\n",
      "\n",
      "h5pfc build/tsDataObj.o build/bessel_functions.o build/root_finder.o build/constants.o build/grid.o build/floor_field.o build/global_input_parameters.o build/surface_density.o build/pressureEquilibrium.o build/outflow.o build/random.o build/input_parameters.o build/IO_hdf5.o build/profiles.o build/gutsdynamo.o build/ts_arrays.o build/data_transfer.o build/output.o build/dynamo.o build/rotationCurves.o build/deriv.o build/messages.o build/interpolation.o build/integration.o build/seed_field.o build/distributor.o build/Magnetizer.o -I /usr/local/include/fgsl/ -lfgsl -I. -I./source/ -J./build/ -fintrinsic-modules-path ./build -I./build/ -I/usr/include/  -fbacktrace  -ffpe-trap=zero,invalid,overflow -fbounds-check -lgsl -lgslcblas -lm -g -Wall -o Magnetizer.exe\n"
     ]
    }
   ],
   "source": [
    "%%bash \n",
    "\n",
    "make test"
   ]
  },
  {
   "cell_type": "markdown",
   "metadata": {},
   "source": [
    "This should have generated the `Magnetizer.exe` executable file in the current working directory."
   ]
  },
  {
   "cell_type": "markdown",
   "metadata": {},
   "source": [
    "## Preparing an input file\n",
    "\n",
    "The Magnetizer code relies on two things in order to run: a **parameters file** and an **input file**. The *parameters file* contains all the setup associated with a run particular run. For example, it contains the path to the input and output files, the number of grid points to be used for the profiles, which assumptions should be used for solving the dynamo equations, etc. We will discuss this in another section.\n",
    "\n",
    "The *input file* contains the properties of the galaxies for which the Magentizer will compute the ISM and magnetic properties.  This file can be generated from a Galform `galaxies.hdf5` output file using the python script `python/prepare_input.py`, which contains some usage information:"
   ]
  },
  {
   "cell_type": "code",
   "execution_count": 20,
   "metadata": {},
   "outputs": [
    {
     "name": "stdout",
     "output_type": "stream",
     "text": [
      "usage: prepare_input.py [-h] [-n NUMBER_OF_GALAXIES]\n",
      "                        [-nz NUMBER_OF_EXTRA_GALAXIES_PER_Z]\n",
      "                        [-BoT MAXIMUM_B_OVER_T] [-ms MINIMUM_STELLAR_MASS]\n",
      "                        [-mg MINIMUM_GAS_MASS] [-Ms MAXIMUM_STELLAR_MASS]\n",
      "                        [-r MINIMUM_DISK_SIZE] [-z MAX_REDSHIFT] [-naz]\n",
      "                        SAM_OUTPUT MAGNETIZER_INPUT\n",
      "\n",
      "Prepares an input file for the Magnetizer.\n",
      "\n",
      "positional arguments:\n",
      "  SAM_OUTPUT            HDF5 output file of a Galform run.\n",
      "  MAGNETIZER_INPUT      Name of the Magnetizer input file to be prepared.\n",
      "\n",
      "optional arguments:\n",
      "  -h, --help            show this help message and exit\n",
      "  -n NUMBER_OF_GALAXIES, --number_of_galaxies NUMBER_OF_GALAXIES\n",
      "                        Approximate *maximum* number of galaxies to extract\n",
      "                        from the SAM_OUTPUT file at z=0. The evolution of\n",
      "                        these galaxies will then be followed.Default: 1e10.\n",
      "  -nz NUMBER_OF_EXTRA_GALAXIES_PER_Z, --number_of_extra_galaxies_per_z NUMBER_OF_EXTRA_GALAXIES_PER_Z\n",
      "                        Approximate *maximum* number of galaxies to extract\n",
      "                        from the SAM_OUTPUT file for each redshift(except\n",
      "                        z=0). Default: same as number_of_galaxies.\n",
      "  -BoT MAXIMUM_B_OVER_T, --maximum_B_over_T MAXIMUM_B_OVER_T\n",
      "                        Maximum bulge to total mass ratio. Default: 1.0\n",
      "  -ms MINIMUM_STELLAR_MASS, --minimum_stellar_mass MINIMUM_STELLAR_MASS\n",
      "                        Minimum disk stellar mass at z=0 (in Msun). Default:\n",
      "                        1e7.\n",
      "  -mg MINIMUM_GAS_MASS, --minimum_gas_mass MINIMUM_GAS_MASS\n",
      "                        Minimum disk gas mass at z=0 (in Msun). Default: 1e6.\n",
      "  -Ms MAXIMUM_STELLAR_MASS, --maximum_stellar_mass MAXIMUM_STELLAR_MASS\n",
      "                        Maximum disk stellar mass at z=0 (in Msun). Default:\n",
      "                        1e14.\n",
      "  -r MINIMUM_DISK_SIZE, --minimum_disk_size MINIMUM_DISK_SIZE\n",
      "                        Minimum disk half mass radius at z=0 (in kpc).\n",
      "                        Default: 0.5.\n",
      "  -z MAX_REDSHIFT, --max_redshift MAX_REDSHIFT\n",
      "                        Maximum redshift to use. Default: 6.\n",
      "  -naz, --do_not_sample_all_z\n",
      "                        If present, galaxies will be sampled only at z=0 and\n",
      "                        their ancestors will be followed to high z (this is\n",
      "                        equivalent to -nz 0). If absent, extra galaxies will\n",
      "                        me sampled for each redshift following -nz.\n"
     ]
    }
   ],
   "source": [
    "%%bash\n",
    "\n",
    "./python/prepare_input.py -h"
   ]
  },
  {
   "cell_type": "markdown",
   "metadata": {},
   "source": [
    "Here I provide a brief description of what is been done by this script.\n",
    "\n",
    "The script will start looking at the output at $z=0$, select the specified number of galaxies. For each galaxy, it step on the merger tree towards higher redshift, always choosing the most massive progenitor brach. Thus, this procedures *converts the original merger tree to a simple time series*, i.e. each galaxy is represented by a time series of properties (instead of a graph).\n",
    "\n",
    "The sample obtained until now is biased: for $z>0$, only the most massive galaxies of each merger tree is being selected. To avoid this, the script moves to the next available redshift and repeats the procedure (skipping galaxies which had been previously stored). Suppose, for definitness that this next redshift is $z=0.01$, the script will look at a number NUMBER_OF_EXTRA_GALAXIES_PER_Z galaxies at $z=0.01$ that were not picked before. For each of these, it will store their properties of the galaxies and move to the most massive branch. Again, a time series will be generated, but it will end at $z=0.01$ instead of $z=0$, because this galaxies merge (or cease to satisfy the selecton criteria) after this redshit. The absent $z=0$ data is signalled in the input file as -999999 marker (which is ignored both by the Magnetizer programs and the python library).\n",
    "The procedure then continues analogously for other redshits.\n",
    "\n",
    "The seclection criteria (e.g. MINIMUM_DISK_SIZE) are applied on the redshift where the galaxies are first sampled *but not on the progenitors of the galaxies* (but note that the progenitors *do appear in the sample*).  To make things concrete, suppose we choose to sample 10 galaxies with disk size greater than 10 kpc. The script will look at $z=0$, try to find 10 galaxies with $r_{\\rm disk}>10\\,\\rm kpc$, and include those galaxies and all their (most massive) progenitors at $z>0$, even if the progenitors have $r_{\\rm disk}<10\\,\\rm kpc$. The reason for this is that, for any sampled galaxy, we want to have access the full history of the galaxy in its time series, so that the Magnetizer can solve the dynamo equations.  To avoid mixing galaxies which are actually sampled with galaxies which are in the sample simply because they are progenitors of sampled galaxies, one can use the \"sample_z\" property.  A very brute-force and computationally intensive (but often useful) alternative, is to use all the galaxies in a given Galform's output, and leave any selection for the analysis step."
   ]
  },
  {
   "cell_type": "code",
   "execution_count": null,
   "metadata": {},
   "outputs": [],
   "source": []
  },
  {
   "cell_type": "code",
   "execution_count": 18,
   "metadata": {},
   "outputs": [],
   "source": [
    "import sys\n",
    "sys.path.append('python')\n",
    "import magnetizer"
   ]
  }
 ],
 "metadata": {
  "kernelspec": {
   "display_name": "Python 3",
   "language": "python",
   "name": "python3"
  },
  "language_info": {
   "codemirror_mode": {
    "name": "ipython",
    "version": 3
   },
   "file_extension": ".py",
   "mimetype": "text/x-python",
   "name": "python",
   "nbconvert_exporter": "python",
   "pygments_lexer": "ipython3",
   "version": "3.7.8"
  }
 },
 "nbformat": 4,
 "nbformat_minor": 4
}
