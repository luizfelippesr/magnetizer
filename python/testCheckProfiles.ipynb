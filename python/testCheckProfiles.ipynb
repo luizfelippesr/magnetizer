{
 "cells": [
  {
   "cell_type": "markdown",
   "metadata": {},
   "source": [
    "#### Compile and run"
   ]
  },
  {
   "cell_type": "code",
   "execution_count": 9,
   "metadata": {
    "collapsed": false
   },
   "outputs": [
    {
     "name": "stdout",
     "output_type": "stream",
     "text": [
      "Using matplotlib backend: TkAgg\n",
      "Populating the interactive namespace from numpy and matplotlib\n",
      "h5pfc -I. -I./source/ -J./build/ -fintrinsic-modules-path ./build -I./build/ -lfgsl -I/usr/local/include/fgsl -I/usr/include/  -fbacktrace  -ffpe-trap=zero,invalid,overflow -fbounds-check -g -Wall -Wuninitialized build/pressureEquilibrium.o build/tests.printProfiles.o build/global_input_parameters.o build/root_finder.o  -o printProfiles.exe\n",
      "\n",
      " #r / kpc     #rho / g/cm^-3#h/pc      #1/(1+Rm)  #P_grav / (erg/cm^3)#P_gas / (erg/cm^3)#Sigma_d / (Msun/kpc^2)#Sigma_s / (Msun/kpc^2)\n",
      "  0.80559995757937486        2.9380477107530951E-024   87.708419258258445       0.24618261028470900        5.7598037979857477E-012   5.7598037979857469E-012   7613151.0095392875        385309920.43094563     \n",
      "   1.6111999151587497        2.6706643734405215E-024   101.03882730961689       0.29483334513789450        5.2428626791814393E-012   5.2428626791814376E-012   7972085.1056471346        294568768.80126566     \n",
      "   2.4167998727381246        2.3912314906270810E-024   116.67811165871156       0.34865166915951057        4.7026257724087833E-012   4.7026257724087858E-012   8242810.7636064300        225197315.07573354     \n",
      "   3.2223998303174994        2.1055013708991173E-024   135.12955714120105       0.40662901374348726        4.1502142076013907E-012   4.1502142076013899E-012   8405628.6271783859        172162958.49589506     \n",
      "   4.0279996378421856        1.8206693728904760E-024   157.03211441983609       0.46733012885900793        3.5995390114513499E-012   3.5995390114513495E-012   8446637.9907024298        131618291.05577061     \n",
      "   4.8335997454762492        1.5446139131998479E-024   183.20246111632130       0.52901406450415189        3.0658317893828031E-012   3.0658317893828019E-012   8360178.7342902413        100621951.19556728     \n",
      "   5.6391998531103127        1.2849140106367134E-024   214.69451081812966       0.58982439963069799        2.5637453110940765E-012   2.5637453110940753E-012   8150032.1476805452        76925304.083403975     \n",
      "   6.4447996606349989        1.0478834245634899E-024   252.88761250351934       0.64800743769552138        2.1054861780191765E-012   2.1054861780191765E-012   7828973.8667372186        58809265.075707488     \n",
      "   7.2503994681596851        8.3786966069817875E-025   299.62274129794037       0.70210559901013370        1.6994595678795754E-012   1.6994595678795752E-012   7416782.6881259903        44959583.845063806     \n",
      "   8.0559992756843712        6.5696893510912890E-025   357.42114591630519       0.75108313498871804        1.3497181650740788E-012   1.3497181650740788E-012   6937282.7135456670        34371525.930805981     \n",
      "\n"
     ]
    }
   ],
   "source": [
    "%pylab\n",
    "import subprocess\n",
    "#print subprocess.check_output(['make','clean'])\n",
    "print subprocess.check_output(['make','testProfiles'])\n",
    "test_dat = subprocess.check_output(['./printProfiles.exe'])\n",
    "print test_dat"
   ]
  },
  {
   "cell_type": "markdown",
   "metadata": {},
   "source": [
    "#### Prepares data and header arrays"
   ]
  },
  {
   "cell_type": "code",
   "execution_count": 10,
   "metadata": {
    "collapsed": false
   },
   "outputs": [],
   "source": [
    "from io import StringIO\n",
    "headers = test_dat.splitlines()[0].split(\"#\")[1:]\n",
    "data = genfromtxt(StringIO(unicode(test_dat)))"
   ]
  },
  {
   "cell_type": "markdown",
   "metadata": {},
   "source": [
    "#### Makes a crude table"
   ]
  },
  {
   "cell_type": "code",
   "execution_count": 11,
   "metadata": {
    "collapsed": false
   },
   "outputs": [
    {
     "name": "stdout",
     "output_type": "stream",
     "text": [
      "r / kpc     \trho / g/cm^-3\th/pc      \t1/(1+Rm)  \tP_grav / (erg/cm^3)\tP_gas / (erg/cm^3)\tSigma_d / (Msun/kpc^2)\tSigma_s / (Msun/kpc^2)\t\n",
      "0.8056    \t2.938e-24    \t87.708    \t0.24618    \t5.7598e-12    \t5.7598e-12    \t7.6132e+06    \t3.8531e+08    \t\n",
      "1.6112    \t2.6707e-24    \t101.04    \t0.29483    \t5.2429e-12    \t5.2429e-12    \t7.9721e+06    \t2.9457e+08    \t\n",
      "2.4168    \t2.3912e-24    \t116.68    \t0.34865    \t4.7026e-12    \t4.7026e-12    \t8.2428e+06    \t2.252e+08    \t\n",
      "3.2224    \t2.1055e-24    \t135.13    \t0.40663    \t4.1502e-12    \t4.1502e-12    \t8.4056e+06    \t1.7216e+08    \t\n",
      "4.028    \t1.8207e-24    \t157.03    \t0.46733    \t3.5995e-12    \t3.5995e-12    \t8.4466e+06    \t1.3162e+08    \t\n",
      "4.8336    \t1.5446e-24    \t183.2    \t0.52901    \t3.0658e-12    \t3.0658e-12    \t8.3602e+06    \t1.0062e+08    \t\n",
      "5.6392    \t1.2849e-24    \t214.69    \t0.58982    \t2.5637e-12    \t2.5637e-12    \t8.15e+06    \t7.6925e+07    \t\n",
      "6.4448    \t1.0479e-24    \t252.89    \t0.64801    \t2.1055e-12    \t2.1055e-12    \t7.829e+06    \t5.8809e+07    \t\n",
      "7.2504    \t8.3787e-25    \t299.62    \t0.70211    \t1.6995e-12    \t1.6995e-12    \t7.4168e+06    \t4.496e+07    \t\n",
      "8.056    \t6.5697e-25    \t357.42    \t0.75108    \t1.3497e-12    \t1.3497e-12    \t6.9373e+06    \t3.4372e+07    \t\n"
     ]
    }
   ],
   "source": [
    "for h in headers:\n",
    "    print '{0}\\t'.format(h),\n",
    "print \n",
    "for line in data:\n",
    "    for col in line:\n",
    "        print '{0:.5g}    \\t'.format(col),\n",
    "    print"
   ]
  },
  {
   "cell_type": "markdown",
   "metadata": {},
   "source": [
    "#### Prepares dictionary"
   ]
  },
  {
   "cell_type": "code",
   "execution_count": 12,
   "metadata": {
    "collapsed": false
   },
   "outputs": [
    {
     "name": "stdout",
     "output_type": "stream",
     "text": [
      "KEYS:\n",
      "1/(1+Rm)\n",
      "Sigma_s / (Msun/kpc^2)\n",
      "P_grav / (erg/cm^3)\n",
      "rho / g/cm^-3\n",
      "P_gas / (erg/cm^3)\n",
      "h/pc\n",
      "r / kpc\n",
      "Sigma_d / (Msun/kpc^2)\n"
     ]
    }
   ],
   "source": [
    "d = dict()\n",
    "\n",
    "for i, h in enumerate(headers):\n",
    "    d[h.strip()] = data[:,i]\n",
    "print 'KEYS:'\n",
    "for k in d.keys():\n",
    "    print k"
   ]
  },
  {
   "cell_type": "code",
   "execution_count": 13,
   "metadata": {
    "collapsed": false
   },
   "outputs": [],
   "source": [
    "P1 = d['P_gas / (erg/cm^3)']\n",
    "P2 = d['P_grav / (erg/cm^3)']\n",
    "r = d['r / kpc']\n",
    "fd = d['1/(1+Rm)']\n",
    "h = d['h/pc']\n",
    "Sigma = d['Sigma_d / (Msun/kpc^2)']\n",
    "rho = d['rho / g/cm^-3']"
   ]
  },
  {
   "cell_type": "code",
   "execution_count": 14,
   "metadata": {
    "collapsed": false
   },
   "outputs": [
    {
     "data": {
      "text/plain": [
       "array([  2.93804771e-24,   2.67066437e-24,   2.39123149e-24,\n",
       "         2.10550137e-24,   1.82066937e-24,   1.54461391e-24,\n",
       "         1.28491401e-24,   1.04788342e-24,   8.37869661e-25,\n",
       "         6.56968935e-25])"
      ]
     },
     "execution_count": 14,
     "metadata": {},
     "output_type": "execute_result"
    }
   ],
   "source": [
    "myrho = (Sigma/2/h * 1.988e33 *3.404e-53)\n",
    "\n",
    "rho"
   ]
  },
  {
   "cell_type": "code",
   "execution_count": 15,
   "metadata": {
    "collapsed": false
   },
   "outputs": [
    {
     "name": "stdout",
     "output_type": "stream",
     "text": [
      "r \tPgas \t \tPgrav  \t\tRel. Dif.\tn/cm^3\n",
      "0.806\t5.76e-12  \t5.76e-12   \t1e-14%\t\t 1.76\n",
      "1.61\t5.24e-12  \t5.24e-12   \t3e-14%\t\t 1.6\n",
      "2.42\t4.7e-12  \t4.7e-12   \t5e-14%\t\t 1.43\n",
      "3.22\t4.15e-12  \t4.15e-12   \t2e-14%\t\t 1.26\n",
      "4.03\t3.6e-12  \t3.6e-12   \t1e-14%\t\t 1.09\n",
      "4.83\t3.07e-12  \t3.07e-12   \t4e-14%\t\t 0.923\n",
      "5.64\t2.56e-12  \t2.56e-12   \t5e-14%\t\t 0.768\n",
      "6.44\t2.11e-12  \t2.11e-12   \t0%\t\t 0.626\n",
      "7.25\t1.7e-12  \t1.7e-12   \t1e-14%\t\t 0.501\n",
      "8.06\t1.35e-12  \t1.35e-12   \t0%\t\t 0.393\n"
     ]
    }
   ],
   "source": [
    "print 'r \\tPgas \\t \\tPgrav  \\t\\tRel. Dif.\\tn/cm^3'\n",
    "for a,b,c,e in zip(r, P1, P2,rho):\n",
    "    print '{0:.3g}\\t{1:.3g}  \\t{2:.3g}   \\t{3:.1g}%\\t\\t {4:.3g}'.format(a, b, c, 100*abs(b-c)/c, e/1.67262158e-24 )"
   ]
  }
 ],
 "metadata": {
  "kernelspec": {
   "display_name": "Python 2",
   "language": "python",
   "name": "python2"
  },
  "language_info": {
   "codemirror_mode": {
    "name": "ipython",
    "version": 2
   },
   "file_extension": ".py",
   "mimetype": "text/x-python",
   "name": "python",
   "nbconvert_exporter": "python",
   "pygments_lexer": "ipython2",
   "version": "2.7.12"
  }
 },
 "nbformat": 4,
 "nbformat_minor": 0
}
